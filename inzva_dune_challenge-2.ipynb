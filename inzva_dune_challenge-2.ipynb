{
  "nbformat": 4,
  "nbformat_minor": 0,
  "metadata": {
    "colab": {
      "name": "inzva_dune_challenge.ipynb",
      "provenance": []
    },
    "kernelspec": {
      "name": "python3",
      "display_name": "Python 3"
    },
    "language_info": {
      "name": "python"
    }
  },
  "cells": [
    {
      "cell_type": "code",
      "source": [
        "#IMPORT LIBRARIES\n",
        "import math\n",
        "import os\n",
        "import random\n",
        "import re\n",
        "import sys\n",
        "import json\n",
        "import csv"
      ],
      "metadata": {
        "id": "WEQMuJflmgJi"
      },
      "execution_count": 2,
      "outputs": []
    },
    {
      "cell_type": "code",
      "execution_count": 3,
      "metadata": {
        "id": "yMW4UmFcMTs8"
      },
      "outputs": [],
      "source": [
        "#LOAD THE DATA AS A LIST OF JSON OBJECTS\n",
        "data = [{\"sandworm_type\": \"divine\", \"sandworm_age\": 29, \"what_does_the_sandworm_say\": \"ARR kurr ARR!!!\", \"sandworm_name\": \"Lejman\"}, {\"sandworm_type\": \"electric\", \"sandworm_age\": 188, \"what_does_the_sandworm_say\": \"se re hart arr ARR say se kurr se say say\", \"sandworm_name\": \"Aether\"}, {\"sandworm_type\": \"air\", \"sandworm_age\": 62, \"what_does_the_sandworm_say\": \"nar kurr arr MO! hart say ARR ARR!!! kurr nar ARR!!! re arr re MO! arr hart arr arr kurr hart\", \"sandworm_name\": \"Hastseoltoi\"}, {\"sandworm_type\": \"elder\", \"sandworm_age\": 24, \"what_does_the_sandworm_say\": \"ARR!!! kurr hua hua hart hart nar MO! re say kurr ARR!!! ARR!!! MO! re se hua nar hua se say hua hart arr nar hart kurr hua hua hart nar MO!\", \"sandworm_name\": \"Moses\"}, {\"sandworm_type\": \"air\", \"sandworm_age\": 39, \"what_does_the_sandworm_say\": \"MO! MO! ARR!!! hua ARR ARR!!! hart ARR!!! ARR MO! hua nar arr hart kurr hart re ARR!!! arr nar hua say say arr MO! arr se nar re ARR!!! nar arr hart ARR!!! kurr arr re ARR!!! ARR kurr hart say\", \"sandworm_name\": \"Aillinn\"}, {\"sandworm_type\": \"electric\", \"sandworm_age\": 159, \"what_does_the_sandworm_say\": \"kurr ARR MO! hart MO! hart hart kurr\", \"sandworm_name\": \"Hina-Te-Ngaru-Moana\"}, {\"sandworm_type\": \"air\", \"sandworm_age\": 48, \"what_does_the_sandworm_say\": \"hua kurr kurr nar hart\", \"sandworm_name\": \"Consus\"}, {\"sandworm_type\": \"divine\", \"sandworm_age\": 57, \"what_does_the_sandworm_say\": \"MO! kurr re arr\", \"sandworm_name\": \"F\\u00faamnach\"}, {\"sandworm_type\": \"earth\", \"sandworm_age\": 40, \"what_does_the_sandworm_say\": \"MO! re kurr hua say hart ARR ARR kurr say se hart hart hua ARR hua hua say\", \"sandworm_name\": \"Harpocrates\"}, {\"sandworm_type\": \"divine\", \"sandworm_age\": 163, \"what_does_the_sandworm_say\": \"ARR!!! kurr ARR say say MO! nar nar se re arr say ARR!!! arr say re MO! hua se hart MO! kurr nar kurr\", \"sandworm_name\": \"Babal\\u00fa Ay\\u00e9\"}, {\"sandworm_type\": \"elder\", \"sandworm_age\": 64, \"what_does_the_sandworm_say\": \"ARR MO! ARR\", \"sandworm_name\": \"Naiades\"}, {\"sandworm_type\": \"electric\", \"sandworm_age\": 32, \"what_does_the_sandworm_say\": \"kurr ARR kurr ARR re\", \"sandworm_name\": \"Gucamatz\"}, {\"sandworm_type\": \"colossal\", \"sandworm_age\": 215, \"what_does_the_sandworm_say\": \"ARR!!! say se re MO! se kurr kurr re se hart se se nar arr re se ARR!!! nar hart hart hart kurr say arr ARR hart MO!\", \"sandworm_name\": \"Nai-No-Kami\"}, {\"sandworm_type\": \"electric\", \"sandworm_age\": 198, \"what_does_the_sandworm_say\": \"say arr\", \"sandworm_name\": \"Naniumlap\"}, {\"sandworm_type\": \"earth\", \"sandworm_age\": 9, \"what_does_the_sandworm_say\": \"kurr hua hart MO! kurr arr se hart se say ARR hua\", \"sandworm_name\": \"Fascinus\"}, {\"sandworm_type\": \"colossal\", \"sandworm_age\": 11, \"what_does_the_sandworm_say\": \"ARR se hart arr\", \"sandworm_name\": \"Aditi\"}, {\"sandworm_type\": \"dark\", \"sandworm_age\": 94, \"what_does_the_sandworm_say\": \"MO! re ARR!!! ARR re hua nar nar kurr arr say hart ARR arr say\", \"sandworm_name\": \"Autolycus\"}, {\"sandworm_type\": \"colossal\", \"sandworm_age\": 211, \"what_does_the_sandworm_say\": \"hua re MO! hart se re ARR nar MO! say MO! arr hua re MO! re\", \"sandworm_name\": \"Amaunet\"}, {\"sandworm_type\": \"electric\", \"sandworm_age\": 59, \"what_does_the_sandworm_say\": \"say hua se hart MO! ARR!!! ARR!!! se ARR!!! ARR!!! se kurr say nar se se ARR se hua se arr\", \"sandworm_name\": \"Aje\"}, {\"sandworm_type\": \"colossal\", \"sandworm_age\": 602, \"what_does_the_sandworm_say\": \"re nar hart say MO! hua se ARR MO! hart say kurr\", \"sandworm_name\": \"Holle\"}, {\"sandworm_type\": \"divine\", \"sandworm_age\": 39, \"what_does_the_sandworm_say\": \"se arr ARR!!! ARR!!! ARR ARR!!! kurr nar MO! MO! hua hart say hua say\", \"sandworm_name\": \"Andrasta\"}, {\"sandworm_type\": \"divine\", \"sandworm_age\": 113, \"what_does_the_sandworm_say\": \"hart MO! ARR se hart kurr say re\", \"sandworm_name\": \"Mjollner\"}, {\"sandworm_type\": \"earth\", \"sandworm_age\": 289, \"what_does_the_sandworm_say\": \"ARR se MO! MO! se hart nar say arr MO! say\", \"sandworm_name\": \"Ayar Manco\"}, {\"sandworm_type\": \"electric\", \"sandworm_age\": 79, \"what_does_the_sandworm_say\": \"nar re nar hart say ARR hua ARR ARR!!! kurr re nar nar nar ARR ARR!!! arr re ARR!!! kurr hua hart nar se ARR kurr se nar ARR re hart\", \"sandworm_name\": \"Eris\"}, {\"sandworm_type\": \"dark\", \"sandworm_age\": 20, \"what_does_the_sandworm_say\": \"MO! hua se hua ARR!!! hua ARR!!! se re hua arr arr hua hua se kurr kurr\", \"sandworm_name\": \"Mebere\"}, {\"sandworm_type\": \"colossal\", \"sandworm_age\": 90, \"what_does_the_sandworm_say\": \"hua MO! re nar nar\", \"sandworm_name\": \"Cybele\"}, {\"sandworm_type\": \"elder\", \"sandworm_age\": 68, \"what_does_the_sandworm_say\": \"hart MO! ARR re hart\", \"sandworm_name\": \"Selket\"}, {\"sandworm_type\": \"earth\", \"sandworm_age\": 120, \"what_does_the_sandworm_say\": \"hua hart kurr ARR\", \"sandworm_name\": \"Medeina\"}, {\"sandworm_type\": \"air\", \"sandworm_age\": 49, \"what_does_the_sandworm_say\": \"ARR!!! MO! nar\", \"sandworm_name\": \"Lida Bumi\"}, {\"sandworm_type\": \"air\", \"sandworm_age\": 58, \"what_does_the_sandworm_say\": \"ARR\", \"sandworm_name\": \"Pallas (5)\"}, {\"sandworm_type\": \"electric\", \"sandworm_age\": 156, \"what_does_the_sandworm_say\": \"say\", \"sandworm_name\": \"Yalafath\"}, {\"sandworm_type\": \"air\", \"sandworm_age\": 357, \"what_does_the_sandworm_say\": \"arr re ARR!!! kurr\", \"sandworm_name\": \"Gul Ses\"}, {\"sandworm_type\": \"dark\", \"sandworm_age\": 56, \"what_does_the_sandworm_say\": \"say hua kurr nar arr say\", \"sandworm_name\": \"Di Zang Wang\"}, {\"sandworm_type\": \"elder\", \"sandworm_age\": 64, \"what_does_the_sandworm_say\": \"kurr\", \"sandworm_name\": \"Corn-Maidens\"}, {\"sandworm_type\": \"divine\", \"sandworm_age\": 146, \"what_does_the_sandworm_say\": \"ARR arr nar nar se MO! say se ARR\", \"sandworm_name\": \"Themis\"}, {\"sandworm_type\": \"air\", \"sandworm_age\": 61, \"what_does_the_sandworm_say\": \"kurr ARR arr ARR MO! kurr\", \"sandworm_name\": \"Ina-Da Samadulo Hose\"}, {\"sandworm_type\": \"electric\", \"sandworm_age\": 84, \"what_does_the_sandworm_say\": \"hart kurr\", \"sandworm_name\": \"Alkonost\"}, {\"sandworm_type\": \"divine\", \"sandworm_age\": 152, \"what_does_the_sandworm_say\": \"nar kurr\", \"sandworm_name\": \"Tonatiuh\"}, {\"sandworm_type\": \"colossal\", \"sandworm_age\": 76, \"what_does_the_sandworm_say\": \"se hua\", \"sandworm_name\": \"Five Vulture\"}, {\"sandworm_type\": \"colossal\", \"sandworm_age\": 19, \"what_does_the_sandworm_say\": \"hua re nar\", \"sandworm_name\": \"G\\u00f6npo\"}, {\"sandworm_type\": \"colossal\", \"sandworm_age\": 138, \"what_does_the_sandworm_say\": \"kurr hart se se ARR!!! MO! kurr\", \"sandworm_name\": \"T\\u00fdr\"}, {\"sandworm_type\": \"colossal\", \"sandworm_age\": 61, \"what_does_the_sandworm_say\": \"say say arr hua se ARR!!! ARR kurr hart say nar se ARR!!! arr ARR!!! ARR!!! arr say se re nar say ARR!!! re kurr say ARR!!! arr ARR!!! arr hua nar ARR!!! arr hua\", \"sandworm_name\": \"Kuku Lau\"}, {\"sandworm_type\": \"earth\", \"sandworm_age\": 85, \"what_does_the_sandworm_say\": \"nar kurr nar ARR!!! ARR!!! nar arr MO! hart se nar\", \"sandworm_name\": \"Narasimha\"}, {\"sandworm_type\": \"earth\", \"sandworm_age\": 2, \"what_does_the_sandworm_say\": \"arr arr say MO! say ARR\", \"sandworm_name\": \"V\\u00e2suki\"}, {\"sandworm_type\": \"divine\", \"sandworm_age\": 63, \"what_does_the_sandworm_say\": \"se nar kurr nar ARR say nar kurr say re kurr se\", \"sandworm_name\": \"Victoria\"}, {\"sandworm_type\": \"divine\", \"sandworm_age\": 96, \"what_does_the_sandworm_say\": \"say hua hua re hua hua se ARR!!! ARR!!!\", \"sandworm_name\": \"Argetl\\u00e1mh\"}, {\"sandworm_type\": \"ancient\", \"sandworm_age\": 29, \"what_does_the_sandworm_say\": \"hua ARR hart hua hua ARR!!! hua kurr kurr kurr MO! re\", \"sandworm_name\": \"Agreskoui\"}, {\"sandworm_type\": \"ancient\", \"sandworm_age\": 90, \"what_does_the_sandworm_say\": \"nar kurr hua MO! kurr\", \"sandworm_name\": \"Da Yu\"}, {\"sandworm_type\": \"ancient\", \"sandworm_age\": 557, \"what_does_the_sandworm_say\": \"say kurr se nar ARR\", \"sandworm_name\": \"Mean\"}, {\"sandworm_type\": \"colossal\", \"sandworm_age\": 163, \"what_does_the_sandworm_say\": \"nar hart re say kurr\", \"sandworm_name\": \"Clota\"}]"
      ]
    },
    {
      "cell_type": "code",
      "source": [
        "print(len(data))"
      ],
      "metadata": {
        "colab": {
          "base_uri": "https://localhost:8080/"
        },
        "id": "rQncpzgmw9UU",
        "outputId": "bbeed5c7-68e9-4a43-9898-94e3c57cb5f4"
      },
      "execution_count": 23,
      "outputs": [
        {
          "output_type": "stream",
          "name": "stdout",
          "text": [
            "50\n"
          ]
        }
      ]
    },
    {
      "cell_type": "code",
      "source": [
        "#EMPTY LISTS TO SEPERATE TYPES OF WORMS\n",
        "ancients=[]\n",
        "elders = []\n",
        "earth_worms = []\n",
        "air_worms = []\n",
        "divine_worms = []\n",
        "dark_worms = []\n",
        "electric_worms = []\n",
        "colossal_worms = []\n",
        "\n",
        "#SEPERATING THE WORMS AND APPENDING THEM TO THEIR RESPECTIVE LISTS\n",
        "for worm in data:\n",
        "  if worm[\"sandworm_type\"] == \"ancient\":\n",
        "    ancients.append(worm)\n",
        "  elif worm[\"sandworm_type\"] == \"elder\":\n",
        "    elders.append(worm)\n",
        "  elif worm[\"sandworm_type\"] == \"earth\":\n",
        "    earth_worms.append(worm)\n",
        "  elif worm[\"sandworm_type\"] == \"air\":\n",
        "    air_worms.append(worm)\n",
        "  elif worm[\"sandworm_type\"] == \"divine\":\n",
        "    divine_worms.append(worm)\n",
        "  elif worm[\"sandworm_type\"] == \"dark\":\n",
        "    dark_worms.append(worm)\n",
        "  elif worm[\"sandworm_type\"] == \"electric\":\n",
        "    electric_worms.append(worm)\n",
        "  else:\n",
        "    colossal_worms.append(worm)"
      ],
      "metadata": {
        "id": "I1cux85SYIwO"
      },
      "execution_count": 4,
      "outputs": []
    },
    {
      "cell_type": "code",
      "source": [
        "#SORTING EACH WORMTYPE LIST FOR AGE, DESCENDING\n",
        "sorted_ancient = sorted(ancients, key=lambda x: x['sandworm_age'], reverse = True)\n",
        "sorted_elders = sorted(elders, key=lambda x: x['sandworm_age'], reverse = True)\n",
        "sorted_earth = sorted(earth_worms, key=lambda x: x['sandworm_age'], reverse = True)\n",
        "sorted_air = sorted(air_worms, key=lambda x: x['sandworm_age'], reverse = True)\n",
        "sorted_divine = sorted(divine_worms, key=lambda x: x['sandworm_age'], reverse = True)\n",
        "sorted_dark = sorted(dark_worms, key=lambda x: x['sandworm_age'], reverse = True)\n",
        "sorted_electric = sorted(electric_worms, key=lambda x: x['sandworm_age'], reverse = True)\n",
        "sorted_colossal = sorted(colossal_worms, key=lambda x: x['sandworm_age'], reverse = True)"
      ],
      "metadata": {
        "id": "eaBhdqE8cNRB"
      },
      "execution_count": 5,
      "outputs": []
    },
    {
      "cell_type": "code",
      "source": [
        "roars = []\n",
        "final_roars = []"
      ],
      "metadata": {
        "id": "sSJQu3pZxJof"
      },
      "execution_count": 6,
      "outputs": []
    },
    {
      "cell_type": "code",
      "source": [
        "print(len(sorted_colossal)) #Check if the resulting roar count matches to list length\n",
        "\n",
        "for colossal in sorted_colossal: #Iterating over given wormtype list which is a list of dictionaries\n",
        "  for key, value in colossal.items(): #Iterates over the dictionary (ancient)\n",
        "    if key == \"what_does_the_sandworm_say\": #Takes the roar value\n",
        "      split_value = value.split() ##Splits the roar words and puts them in a list, putting it in a split_value variable\n",
        "\n",
        "      #ALGORITHM LOGIC\n",
        "\n",
        "      if len(split_value) > 5:\n",
        "        while len(split_value) > 5:\n",
        "          split_value.pop(-1)\n",
        "        #colossal.update(split_value)\n",
        "        print(split_value)\n",
        "        \n",
        "      if len(split_value) < 5:\n",
        "        while len(split_value) < 5:\n",
        "          split_value.append('<SILENCE>')\n",
        "          #silence_result = {\"what_does_the_sandworm_say\":value}\n",
        "          #elder.update(silence_result)\n",
        "        #colossal.update(split_value)\n",
        "        print(split_value)  \n",
        "      "
      ],
      "metadata": {
        "id": "6FiXg1yru2cU"
      },
      "execution_count": null,
      "outputs": []
    },
    {
      "cell_type": "code",
      "source": [
        "roars = []\n",
        "final_roars = []\n",
        "\n",
        "for ancient in sorted_elders: #Iterates over given wormtype list which is a list of dictionaries\n",
        "\n",
        "  for key, value in ancient.items(): #Iterates over the dictionary (ancient)\n",
        "\n",
        "    if key == \"what_does_the_sandworm_say\": #Takes the roar value\n",
        "      roars = [value.split()] #Splits the roar words and puts them in a list\n",
        "      \n",
        "\n",
        "      for roar in roars: #Iterating over the roar words list\n",
        "        print(roar)\n",
        "\n",
        "        if len(roar) > 5:\n",
        "\n",
        "          while len(roar) > 5:\n",
        "            roar.pop(-1)\n",
        "\n",
        "        if len(roar) < 5:\n",
        "\n",
        "          while len(roar) < 5:\n",
        "            roar.append('<SILENCE>')\n",
        "\n",
        "      final_roars.append(roar) #Adding the resulting roar to the final_roars list\n",
        "  \n",
        "\n",
        "print(final_roars)\n",
        "\n",
        "for elder in sorted_elders:\n",
        "  for key, value in elder.items():\n",
        "      for roar in final_roars:\n",
        "        sorted_elders[0] = roar\n",
        "            \n",
        "     \n",
        "      \n",
        "        "
      ],
      "metadata": {
        "colab": {
          "base_uri": "https://localhost:8080/"
        },
        "id": "je2_smbrebBQ",
        "outputId": "d57dfeb8-2b0b-429e-dea9-a23a6e14eafe"
      },
      "execution_count": 28,
      "outputs": [
        {
          "output_type": "stream",
          "name": "stdout",
          "text": [
            "['hart', 'MO!', 'ARR', 're', 'hart']\n",
            "['ARR', 'MO!', 'ARR']\n",
            "['kurr']\n",
            "['ARR!!!', 'kurr', 'hua', 'hua', 'hart', 'hart', 'nar', 'MO!', 're', 'say', 'kurr', 'ARR!!!', 'ARR!!!', 'MO!', 're', 'se', 'hua', 'nar', 'hua', 'se', 'say', 'hua', 'hart', 'arr', 'nar', 'hart', 'kurr', 'hua', 'hua', 'hart', 'nar', 'MO!']\n",
            "[['hart', 'MO!', 'ARR', 're', 'hart'], ['ARR', 'MO!', 'ARR', '<SILENCE>', '<SILENCE>'], ['kurr', '<SILENCE>', '<SILENCE>', '<SILENCE>', '<SILENCE>'], ['ARR!!!', 'kurr', 'hua', 'hua', 'hart']]\n"
          ]
        }
      ]
    },
    {
      "cell_type": "code",
      "source": [
        "#Checking if the sorted wormtype list has more than N worms\n",
        "#Removes the worms starting from the ones with the smaller age\n",
        "#Until the desired list length is achieved\n",
        "#Appends the results in worms_final\n",
        "#Will be later used to write in the tsv file\n",
        "\n",
        "worms_final = []\n",
        "\n",
        "if len(sorted_ancient) > 3:\n",
        "  extra = len(sorted_ancient) - 3\n",
        "  for i in range(extra):\n",
        "    sorted_ancient.pop()\n",
        "worms_final.append(sorted_ancient)\n",
        "\n",
        "if len(sorted_elders) > 3:\n",
        "  extra = len(sorted_elders) - 3\n",
        "  for i in range(extra):\n",
        "    sorted_elders.pop()\n",
        "worms_final.append(sorted_elders)\n",
        "\n",
        "if len(sorted_earth) > 3:\n",
        "  extra = len(sorted_earth) - 3\n",
        "  for i in range(extra):\n",
        "    sorted_earth.pop()\n",
        "worms_final.append(sorted_earth)\n",
        "\n",
        "if len(sorted_air) > 3:\n",
        "  extra = len(sorted_air) - 3\n",
        "  for i in range(extra):\n",
        "    sorted_air.pop()\n",
        "worms_final.append(sorted_air)\n",
        "\n",
        "if len(sorted_divine) > 3:\n",
        "  extra = len(sorted_divine) - 3\n",
        "  for i in range(extra):\n",
        "    sorted_divine.pop()\n",
        "worms_final.append(sorted_divine)\n",
        "\n",
        "if len(sorted_dark) > 3:\n",
        "  extra = len(sorted_dark) - 3\n",
        "  for i in range(extra):\n",
        "    sorted_dark.pop()\n",
        "worms_final.append(sorted_dark)\n",
        "\n",
        "if len(sorted_electric) > 3:\n",
        "  extra = len(sorted_electric) - 3\n",
        "  for i in range(extra):\n",
        "    sorted_electric.pop()\n",
        "worms_final.append(sorted_electric)\n",
        "\n",
        "if len(sorted_colossal) > 3:\n",
        "  extra = len(sorted_colossal) - 3\n",
        "  for i in range(extra):\n",
        "    sorted_colossal.pop() \n",
        "worms_final.append(sorted_colossal)"
      ],
      "metadata": {
        "id": "cw0q6iOrZlsZ"
      },
      "execution_count": null,
      "outputs": []
    },
    {
      "cell_type": "code",
      "source": [
        "for worms in worms_final:\n",
        "  roars = [worm[\"what_does_the_sandworm_say\"] for worms in worms]\n",
        "print(roars)"
      ],
      "metadata": {
        "id": "mqp5jMYVWudq"
      },
      "execution_count": null,
      "outputs": []
    },
    {
      "cell_type": "code",
      "source": [
        "keys = ['sandworm_type', 'sandworm_age', 'what_does_the_sandworm_say', 'sandworm_name']\n",
        "\n",
        "with open(\"final_worms.csv\", \"w\") as f:\n",
        "  writer = csv.DictWriter(f, keys, delimiter=\",\")\n",
        "  writer.writeheader()\n",
        "  for item in worms_final:\n",
        "    writer.writerows(item)"
      ],
      "metadata": {
        "id": "V7fW5UUF1ta8"
      },
      "execution_count": null,
      "outputs": []
    },
    {
      "cell_type": "code",
      "source": [
        "print(worms_final)"
      ],
      "metadata": {
        "id": "jQcoQhKcbeBP"
      },
      "execution_count": null,
      "outputs": []
    },
    {
      "cell_type": "code",
      "source": [
        "for worm in worms_final:\n",
        "  for key, val in worm.items():\n",
        "      if isinstance(val, list):\n",
        "          for dic in val:\n",
        "              if 'what_does_the_sandworm_say' in dic:\n",
        "                val_of_key = dic.get('what_does_the_sandworm_say')\n",
        "                break"
      ],
      "metadata": {
        "id": "AFz57Sd1KLMU"
      },
      "execution_count": null,
      "outputs": []
    },
    {
      "cell_type": "code",
      "source": [
        "keys = ['sandworm_type', 'sandworm_age', 'what_does_the_sandworm_say', 'sandworm_name']\n",
        "\n",
        "with open('csvoutput.tsv', 'w') as f:\n",
        "  writer = csv.DictWriter(f, keys, delimiter='\\t')\n",
        "  writer.writeheader()\n",
        "  writer.writerows(data)"
      ],
      "metadata": {
        "id": "WVVyT3pTZujt"
      },
      "execution_count": null,
      "outputs": []
    }
  ]
}