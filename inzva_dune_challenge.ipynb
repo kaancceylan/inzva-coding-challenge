{
  "nbformat": 4,
  "nbformat_minor": 0,
  "metadata": {
    "colab": {
      "name": "inzva_dune_challenge.ipynb",
      "provenance": []
    },
    "kernelspec": {
      "name": "python3",
      "display_name": "Python 3"
    },
    "language_info": {
      "name": "python"
    }
  },
  "cells": [
    {
      "cell_type": "code",
      "source": [
        "import math\n",
        "import os\n",
        "import random\n",
        "import re\n",
        "import sys\n",
        "import json\n",
        "import csv"
      ],
      "metadata": {
        "id": "WEQMuJflmgJi"
      },
      "execution_count": 1,
      "outputs": []
    },
    {
      "cell_type": "code",
      "execution_count": 12,
      "metadata": {
        "id": "yMW4UmFcMTs8"
      },
      "outputs": [],
      "source": [
        "data = [{\"sandworm_type\": \"divine\", \"sandworm_age\": 29, \"what_does_the_sandworm_say\": \"ARR kurr ARR!!!\", \"sandworm_name\": \"Lejman\"}, {\"sandworm_type\": \"electric\", \"sandworm_age\": 188, \"what_does_the_sandworm_say\": \"se re hart arr ARR say se kurr se say say\", \"sandworm_name\": \"Aether\"}, {\"sandworm_type\": \"air\", \"sandworm_age\": 62, \"what_does_the_sandworm_say\": \"nar kurr arr MO! hart say ARR ARR!!! kurr nar ARR!!! re arr re MO! arr hart arr arr kurr hart\", \"sandworm_name\": \"Hastseoltoi\"}, {\"sandworm_type\": \"elder\", \"sandworm_age\": 24, \"what_does_the_sandworm_say\": \"ARR!!! kurr hua hua hart hart nar MO! re say kurr ARR!!! ARR!!! MO! re se hua nar hua se say hua hart arr nar hart kurr hua hua hart nar MO!\", \"sandworm_name\": \"Moses\"}, {\"sandworm_type\": \"air\", \"sandworm_age\": 39, \"what_does_the_sandworm_say\": \"MO! MO! ARR!!! hua ARR ARR!!! hart ARR!!! ARR MO! hua nar arr hart kurr hart re ARR!!! arr nar hua say say arr MO! arr se nar re ARR!!! nar arr hart ARR!!! kurr arr re ARR!!! ARR kurr hart say\", \"sandworm_name\": \"Aillinn\"}, {\"sandworm_type\": \"electric\", \"sandworm_age\": 159, \"what_does_the_sandworm_say\": \"kurr ARR MO! hart MO! hart hart kurr\", \"sandworm_name\": \"Hina-Te-Ngaru-Moana\"}, {\"sandworm_type\": \"air\", \"sandworm_age\": 48, \"what_does_the_sandworm_say\": \"hua kurr kurr nar hart\", \"sandworm_name\": \"Consus\"}, {\"sandworm_type\": \"divine\", \"sandworm_age\": 57, \"what_does_the_sandworm_say\": \"MO! kurr re arr\", \"sandworm_name\": \"F\\u00faamnach\"}, {\"sandworm_type\": \"earth\", \"sandworm_age\": 40, \"what_does_the_sandworm_say\": \"MO! re kurr hua say hart ARR ARR kurr say se hart hart hua ARR hua hua say\", \"sandworm_name\": \"Harpocrates\"}, {\"sandworm_type\": \"divine\", \"sandworm_age\": 163, \"what_does_the_sandworm_say\": \"ARR!!! kurr ARR say say MO! nar nar se re arr say ARR!!! arr say re MO! hua se hart MO! kurr nar kurr\", \"sandworm_name\": \"Babal\\u00fa Ay\\u00e9\"}, {\"sandworm_type\": \"elder\", \"sandworm_age\": 64, \"what_does_the_sandworm_say\": \"ARR MO! ARR\", \"sandworm_name\": \"Naiades\"}, {\"sandworm_type\": \"electric\", \"sandworm_age\": 32, \"what_does_the_sandworm_say\": \"kurr ARR kurr ARR re\", \"sandworm_name\": \"Gucamatz\"}, {\"sandworm_type\": \"colossal\", \"sandworm_age\": 215, \"what_does_the_sandworm_say\": \"ARR!!! say se re MO! se kurr kurr re se hart se se nar arr re se ARR!!! nar hart hart hart kurr say arr ARR hart MO!\", \"sandworm_name\": \"Nai-No-Kami\"}, {\"sandworm_type\": \"electric\", \"sandworm_age\": 198, \"what_does_the_sandworm_say\": \"say arr\", \"sandworm_name\": \"Naniumlap\"}, {\"sandworm_type\": \"earth\", \"sandworm_age\": 9, \"what_does_the_sandworm_say\": \"kurr hua hart MO! kurr arr se hart se say ARR hua\", \"sandworm_name\": \"Fascinus\"}, {\"sandworm_type\": \"colossal\", \"sandworm_age\": 11, \"what_does_the_sandworm_say\": \"ARR se hart arr\", \"sandworm_name\": \"Aditi\"}, {\"sandworm_type\": \"dark\", \"sandworm_age\": 94, \"what_does_the_sandworm_say\": \"MO! re ARR!!! ARR re hua nar nar kurr arr say hart ARR arr say\", \"sandworm_name\": \"Autolycus\"}, {\"sandworm_type\": \"colossal\", \"sandworm_age\": 211, \"what_does_the_sandworm_say\": \"hua re MO! hart se re ARR nar MO! say MO! arr hua re MO! re\", \"sandworm_name\": \"Amaunet\"}, {\"sandworm_type\": \"electric\", \"sandworm_age\": 59, \"what_does_the_sandworm_say\": \"say hua se hart MO! ARR!!! ARR!!! se ARR!!! ARR!!! se kurr say nar se se ARR se hua se arr\", \"sandworm_name\": \"Aje\"}, {\"sandworm_type\": \"colossal\", \"sandworm_age\": 602, \"what_does_the_sandworm_say\": \"re nar hart say MO! hua se ARR MO! hart say kurr\", \"sandworm_name\": \"Holle\"}, {\"sandworm_type\": \"divine\", \"sandworm_age\": 39, \"what_does_the_sandworm_say\": \"se arr ARR!!! ARR!!! ARR ARR!!! kurr nar MO! MO! hua hart say hua say\", \"sandworm_name\": \"Andrasta\"}, {\"sandworm_type\": \"divine\", \"sandworm_age\": 113, \"what_does_the_sandworm_say\": \"hart MO! ARR se hart kurr say re\", \"sandworm_name\": \"Mjollner\"}, {\"sandworm_type\": \"earth\", \"sandworm_age\": 289, \"what_does_the_sandworm_say\": \"ARR se MO! MO! se hart nar say arr MO! say\", \"sandworm_name\": \"Ayar Manco\"}, {\"sandworm_type\": \"electric\", \"sandworm_age\": 79, \"what_does_the_sandworm_say\": \"nar re nar hart say ARR hua ARR ARR!!! kurr re nar nar nar ARR ARR!!! arr re ARR!!! kurr hua hart nar se ARR kurr se nar ARR re hart\", \"sandworm_name\": \"Eris\"}, {\"sandworm_type\": \"dark\", \"sandworm_age\": 20, \"what_does_the_sandworm_say\": \"MO! hua se hua ARR!!! hua ARR!!! se re hua arr arr hua hua se kurr kurr\", \"sandworm_name\": \"Mebere\"}, {\"sandworm_type\": \"colossal\", \"sandworm_age\": 90, \"what_does_the_sandworm_say\": \"hua MO! re nar nar\", \"sandworm_name\": \"Cybele\"}, {\"sandworm_type\": \"elder\", \"sandworm_age\": 68, \"what_does_the_sandworm_say\": \"hart MO! ARR re hart\", \"sandworm_name\": \"Selket\"}, {\"sandworm_type\": \"earth\", \"sandworm_age\": 120, \"what_does_the_sandworm_say\": \"hua hart kurr ARR\", \"sandworm_name\": \"Medeina\"}, {\"sandworm_type\": \"air\", \"sandworm_age\": 49, \"what_does_the_sandworm_say\": \"ARR!!! MO! nar\", \"sandworm_name\": \"Lida Bumi\"}, {\"sandworm_type\": \"air\", \"sandworm_age\": 58, \"what_does_the_sandworm_say\": \"ARR\", \"sandworm_name\": \"Pallas (5)\"}, {\"sandworm_type\": \"electric\", \"sandworm_age\": 156, \"what_does_the_sandworm_say\": \"say\", \"sandworm_name\": \"Yalafath\"}, {\"sandworm_type\": \"air\", \"sandworm_age\": 357, \"what_does_the_sandworm_say\": \"arr re ARR!!! kurr\", \"sandworm_name\": \"Gul Ses\"}, {\"sandworm_type\": \"dark\", \"sandworm_age\": 56, \"what_does_the_sandworm_say\": \"say hua kurr nar arr say\", \"sandworm_name\": \"Di Zang Wang\"}, {\"sandworm_type\": \"elder\", \"sandworm_age\": 64, \"what_does_the_sandworm_say\": \"kurr\", \"sandworm_name\": \"Corn-Maidens\"}, {\"sandworm_type\": \"divine\", \"sandworm_age\": 146, \"what_does_the_sandworm_say\": \"ARR arr nar nar se MO! say se ARR\", \"sandworm_name\": \"Themis\"}, {\"sandworm_type\": \"air\", \"sandworm_age\": 61, \"what_does_the_sandworm_say\": \"kurr ARR arr ARR MO! kurr\", \"sandworm_name\": \"Ina-Da Samadulo Hose\"}, {\"sandworm_type\": \"electric\", \"sandworm_age\": 84, \"what_does_the_sandworm_say\": \"hart kurr\", \"sandworm_name\": \"Alkonost\"}, {\"sandworm_type\": \"divine\", \"sandworm_age\": 152, \"what_does_the_sandworm_say\": \"nar kurr\", \"sandworm_name\": \"Tonatiuh\"}, {\"sandworm_type\": \"colossal\", \"sandworm_age\": 76, \"what_does_the_sandworm_say\": \"se hua\", \"sandworm_name\": \"Five Vulture\"}, {\"sandworm_type\": \"colossal\", \"sandworm_age\": 19, \"what_does_the_sandworm_say\": \"hua re nar\", \"sandworm_name\": \"G\\u00f6npo\"}, {\"sandworm_type\": \"colossal\", \"sandworm_age\": 138, \"what_does_the_sandworm_say\": \"kurr hart se se ARR!!! MO! kurr\", \"sandworm_name\": \"T\\u00fdr\"}, {\"sandworm_type\": \"colossal\", \"sandworm_age\": 61, \"what_does_the_sandworm_say\": \"say say arr hua se ARR!!! ARR kurr hart say nar se ARR!!! arr ARR!!! ARR!!! arr say se re nar say ARR!!! re kurr say ARR!!! arr ARR!!! arr hua nar ARR!!! arr hua\", \"sandworm_name\": \"Kuku Lau\"}, {\"sandworm_type\": \"earth\", \"sandworm_age\": 85, \"what_does_the_sandworm_say\": \"nar kurr nar ARR!!! ARR!!! nar arr MO! hart se nar\", \"sandworm_name\": \"Narasimha\"}, {\"sandworm_type\": \"earth\", \"sandworm_age\": 2, \"what_does_the_sandworm_say\": \"arr arr say MO! say ARR\", \"sandworm_name\": \"V\\u00e2suki\"}, {\"sandworm_type\": \"divine\", \"sandworm_age\": 63, \"what_does_the_sandworm_say\": \"se nar kurr nar ARR say nar kurr say re kurr se\", \"sandworm_name\": \"Victoria\"}, {\"sandworm_type\": \"divine\", \"sandworm_age\": 96, \"what_does_the_sandworm_say\": \"say hua hua re hua hua se ARR!!! ARR!!!\", \"sandworm_name\": \"Argetl\\u00e1mh\"}, {\"sandworm_type\": \"ancient\", \"sandworm_age\": 29, \"what_does_the_sandworm_say\": \"hua ARR hart hua hua ARR!!! hua kurr kurr kurr MO! re\", \"sandworm_name\": \"Agreskoui\"}, {\"sandworm_type\": \"ancient\", \"sandworm_age\": 90, \"what_does_the_sandworm_say\": \"nar kurr hua MO! kurr\", \"sandworm_name\": \"Da Yu\"}, {\"sandworm_type\": \"ancient\", \"sandworm_age\": 557, \"what_does_the_sandworm_say\": \"say kurr se nar ARR\", \"sandworm_name\": \"Mean\"}, {\"sandworm_type\": \"colossal\", \"sandworm_age\": 163, \"what_does_the_sandworm_say\": \"nar hart re say kurr\", \"sandworm_name\": \"Clota\"}]"
      ]
    },
    {
      "cell_type": "code",
      "source": [
        "print(len(data))"
      ],
      "metadata": {
        "colab": {
          "base_uri": "https://localhost:8080/"
        },
        "id": "rQncpzgmw9UU",
        "outputId": "e2d1e435-652a-41f9-8b81-db0462973472"
      },
      "execution_count": 13,
      "outputs": [
        {
          "output_type": "stream",
          "name": "stdout",
          "text": [
            "50\n"
          ]
        }
      ]
    },
    {
      "cell_type": "code",
      "source": [
        "ancients=[]\n",
        "elders = []\n",
        "earth_worms = []\n",
        "air_worms = []\n",
        "divine_worms = []\n",
        "dark_worms = []\n",
        "electric_worms = []\n",
        "colossal_worms = []\n",
        "\n",
        "for worm in data:\n",
        "  if worm[\"sandworm_type\"] == \"ancient\":\n",
        "    ancients.append(worm)\n",
        "  elif worm[\"sandworm_type\"] == \"elder\":\n",
        "    elders.append(worm)\n",
        "  elif worm[\"sandworm_type\"] == \"earth\":\n",
        "    earth_worms.append(worm)\n",
        "  elif worm[\"sandworm_type\"] == \"air\":\n",
        "    air_worms.append(worm)\n",
        "  elif worm[\"sandworm_type\"] == \"divine\":\n",
        "    divine_worms.append(worm)\n",
        "  elif worm[\"sandworm_type\"] == \"dark\":\n",
        "    dark_worms.append(worm)\n",
        "  elif worm[\"sandworm_type\"] == \"electric\":\n",
        "    electric_worms.append(worm)\n",
        "  else:\n",
        "    colossal_worms.append(worm)"
      ],
      "metadata": {
        "id": "I1cux85SYIwO"
      },
      "execution_count": 14,
      "outputs": []
    },
    {
      "cell_type": "code",
      "source": [
        "print(len(air_worms))"
      ],
      "metadata": {
        "colab": {
          "base_uri": "https://localhost:8080/"
        },
        "id": "2GaYTM2daPaL",
        "outputId": "7b49b937-85cb-4bfa-990a-cc35c787db6b"
      },
      "execution_count": 15,
      "outputs": [
        {
          "output_type": "stream",
          "name": "stdout",
          "text": [
            "7\n"
          ]
        }
      ]
    },
    {
      "cell_type": "code",
      "source": [
        "sorted_ancient = sorted(ancients, key=lambda x: x['sandworm_age'], reverse = True)\n",
        "sorted_elders = sorted(elders, key=lambda x: x['sandworm_age'], reverse = True)\n",
        "sorted_earth = sorted(earth_worms, key=lambda x: x['sandworm_age'], reverse = True)\n",
        "sorted_air = sorted(air_worms, key=lambda x: x['sandworm_age'], reverse = True)\n",
        "sorted_divine = sorted(divine_worms, key=lambda x: x['sandworm_age'], reverse = True)\n",
        "sorted_dark = sorted(dark_worms, key=lambda x: x['sandworm_age'], reverse = True)\n",
        "sorted_electric = sorted(electric_worms, key=lambda x: x['sandworm_age'], reverse = True)\n",
        "sorted_colossal = sorted(colossal_worms, key=lambda x: x['sandworm_age'], reverse = True)"
      ],
      "metadata": {
        "id": "eaBhdqE8cNRB"
      },
      "execution_count": 5,
      "outputs": []
    },
    {
      "cell_type": "code",
      "source": [
        "print(sorted_elders)"
      ],
      "metadata": {
        "colab": {
          "base_uri": "https://localhost:8080/"
        },
        "id": "jRdR0ahKothN",
        "outputId": "c085dfa2-c33a-48d5-d99e-8d2380f30ad2"
      },
      "execution_count": 96,
      "outputs": [
        {
          "output_type": "stream",
          "name": "stdout",
          "text": [
            "[{'sandworm_type': 'elder', 'sandworm_age': 68, 'what_does_the_sandworm_say': 'hart MO! ARR re hart', 'sandworm_name': 'Selket'}, {'sandworm_type': 'elder', 'sandworm_age': 64, 'what_does_the_sandworm_say': 'ARR MO! ARR', 'sandworm_name': 'Naiades'}, {'sandworm_type': 'elder', 'sandworm_age': 64, 'what_does_the_sandworm_say': 'kurr', 'sandworm_name': 'Corn-Maidens'}]\n"
          ]
        }
      ]
    },
    {
      "cell_type": "code",
      "source": [
        "print(sorted_ancient)\n",
        "roars = []\n",
        "final_roars = []\n",
        "for ancient in sorted_elders:\n",
        "\n",
        "  for key, value in ancient.items():\n",
        "\n",
        "    if key == \"what_does_the_sandworm_say\":\n",
        "      roars = [value.split()]\n",
        "      \n",
        "\n",
        "      for roar in roars:\n",
        "        print(roar)\n",
        "\n",
        "        if len(roar) > 5:\n",
        "\n",
        "          while len(roar) > 5:\n",
        "            roar.pop(-1)\n",
        "\n",
        "        if len(roar) < 5:\n",
        "\n",
        "          while len(roar) < 5:\n",
        "            roar.append('<SILENCE>')\n",
        "\n",
        "      final_roars.append(roar)\n",
        "  \n",
        "\n",
        "print(final_roars)\n",
        "\n",
        "for elder in sorted_elders:\n",
        "  for key, value in sorted_elders.items():\n",
        "      for roar in final_roars:\n",
        "        sorted_elders[\"what_does_the_sandworm_say\"] = roar\n",
        "            \n",
        "        \n",
        "      \n",
        "        "
      ],
      "metadata": {
        "colab": {
          "base_uri": "https://localhost:8080/",
          "height": 337
        },
        "id": "je2_smbrebBQ",
        "outputId": "598a698f-ce32-4d57-c167-229563db4059"
      },
      "execution_count": 98,
      "outputs": [
        {
          "output_type": "stream",
          "name": "stdout",
          "text": [
            "[{'sandworm_type': 'ancient', 'sandworm_age': 557, 'what_does_the_sandworm_say': 'say kurr se nar ARR', 'sandworm_name': 'Mean'}, {'sandworm_type': 'ancient', 'sandworm_age': 90, 'what_does_the_sandworm_say': 'nar kurr hua MO! kurr', 'sandworm_name': 'Da Yu'}, {'sandworm_type': 'ancient', 'sandworm_age': 29, 'what_does_the_sandworm_say': 'hua ARR hart hua hua ARR!!! hua kurr kurr kurr MO! re', 'sandworm_name': 'Agreskoui'}]\n",
            "['hart', 'MO!', 'ARR', 're', 'hart']\n",
            "['ARR', 'MO!', 'ARR']\n",
            "['kurr']\n",
            "[['hart', 'MO!', 'ARR', 're', 'hart'], ['ARR', 'MO!', 'ARR', '<SILENCE>', '<SILENCE>'], ['kurr', '<SILENCE>', '<SILENCE>', '<SILENCE>', '<SILENCE>']]\n"
          ]
        },
        {
          "output_type": "error",
          "ename": "AttributeError",
          "evalue": "ignored",
          "traceback": [
            "\u001b[0;31m---------------------------------------------------------------------------\u001b[0m",
            "\u001b[0;31mAttributeError\u001b[0m                            Traceback (most recent call last)",
            "\u001b[0;32m<ipython-input-98-755b4f9a1826>\u001b[0m in \u001b[0;36m<module>\u001b[0;34m()\u001b[0m\n\u001b[1;32m     29\u001b[0m \u001b[0;34m\u001b[0m\u001b[0m\n\u001b[1;32m     30\u001b[0m \u001b[0;32mfor\u001b[0m \u001b[0melder\u001b[0m \u001b[0;32min\u001b[0m \u001b[0msorted_elders\u001b[0m\u001b[0;34m:\u001b[0m\u001b[0;34m\u001b[0m\u001b[0;34m\u001b[0m\u001b[0m\n\u001b[0;32m---> 31\u001b[0;31m   \u001b[0;32mfor\u001b[0m \u001b[0mkey\u001b[0m\u001b[0;34m,\u001b[0m \u001b[0mvalue\u001b[0m \u001b[0;32min\u001b[0m \u001b[0msorted_elders\u001b[0m\u001b[0;34m.\u001b[0m\u001b[0mitems\u001b[0m\u001b[0;34m(\u001b[0m\u001b[0;34m)\u001b[0m\u001b[0;34m:\u001b[0m\u001b[0;34m\u001b[0m\u001b[0;34m\u001b[0m\u001b[0m\n\u001b[0m\u001b[1;32m     32\u001b[0m       \u001b[0;32mfor\u001b[0m \u001b[0mroar\u001b[0m \u001b[0;32min\u001b[0m \u001b[0mfinal_roars\u001b[0m\u001b[0;34m:\u001b[0m\u001b[0;34m\u001b[0m\u001b[0;34m\u001b[0m\u001b[0m\n\u001b[1;32m     33\u001b[0m         \u001b[0msorted_elders\u001b[0m\u001b[0;34m[\u001b[0m\u001b[0;34m\"what_does_the_sandworm_say\"\u001b[0m\u001b[0;34m]\u001b[0m \u001b[0;34m=\u001b[0m \u001b[0mroar\u001b[0m\u001b[0;34m\u001b[0m\u001b[0;34m\u001b[0m\u001b[0m\n",
            "\u001b[0;31mAttributeError\u001b[0m: 'list' object has no attribute 'items'"
          ]
        }
      ]
    },
    {
      "cell_type": "code",
      "source": [
        "for ancient in sorted_ancient:\n",
        "  for \"what_does_the_sandworm_say\" in ancient:\n",
        "    print(\"what_does_the_sandworm_say\", ':', ancient[\"what_does_the_sandworm_say\"])\n",
        "  "
      ],
      "metadata": {
        "id": "qoh2sXEDdiW6"
      },
      "execution_count": null,
      "outputs": []
    },
    {
      "cell_type": "code",
      "source": [
        "sorted_ancient = sorted(ancients, key=lambda x: (x['sandworm_type'], x['sandworm_age']), reverse = True)\n",
        "sorted_elders = sorted(elders, key=lambda x: (x['sandworm_type'], x['sandworm_age']), reverse = True)\n",
        "sorted_earth = sorted(earth_worms, key=lambda x: (x['sandworm_type'], x['sandworm_age']), reverse = True)\n",
        "sorted_air = sorted(air_worms, key=lambda x: (x['sandworm_type'], x['sandworm_age']), reverse = True)\n",
        "sorted_divine = sorted(divine_worms, key=lambda x: (x['sandworm_type'], x['sandworm_age']), reverse = True)\n",
        "sorted_dark = sorted(dark_worms, key=lambda x: (x['sandworm_type'], x['sandworm_age']), reverse = True)\n",
        "sorted_electric = sorted(electric_worms, key=lambda x: (x['sandworm_type'], x['sandworm_age']), reverse = True)\n",
        "sorted_colossal = sorted(colossal_worms, key=lambda x: (x['sandworm_type'], x['sandworm_age']), reverse = True)"
      ],
      "metadata": {
        "id": "dM1V1Bo_oZPw"
      },
      "execution_count": 16,
      "outputs": []
    },
    {
      "cell_type": "code",
      "source": [
        "worms_final = []\n",
        "\n",
        "if len(sorted_ancient) > 3:\n",
        "  extra = len(sorted_ancient) - 3\n",
        "  #for worm in sorted_ancient:\n",
        "  for i in range(extra):\n",
        "    sorted_ancient.pop()\n",
        "worms_final.append(sorted_ancient)\n",
        "\n",
        "if len(sorted_elders) > 3:\n",
        "  extra = len(sorted_elders) - 3\n",
        "  #for worm in sorted_elders:\n",
        "  for i in range(extra):\n",
        "    sorted_elders.pop()\n",
        "worms_final.append(sorted_elders)\n",
        "\n",
        "if len(sorted_earth) > 3:\n",
        "  extra = len(sorted_earth) - 3\n",
        "  #for worm in sorted_earth:\n",
        "  for i in range(extra):\n",
        "    sorted_earth.pop()\n",
        "worms_final.append(sorted_earth)\n",
        "\n",
        "if len(sorted_air) > 3:\n",
        "  extra = len(sorted_air) - 3\n",
        "  #for worm in sorted_air:\n",
        "  for i in range(extra):\n",
        "    sorted_air.pop()\n",
        "worms_final.append(sorted_air)\n",
        "\n",
        "if len(sorted_divine) > 3:\n",
        "  extra = len(sorted_divine) - 3\n",
        "  #for worm in sorted_divine:\n",
        "  for i in range(extra):\n",
        "    sorted_divine.pop()\n",
        "worms_final.append(sorted_divine)\n",
        "\n",
        "if len(sorted_dark) > 3:\n",
        "  extra = len(sorted_dark) - 3\n",
        "  #for worm in sorted_dark:\n",
        "  for i in range(extra):\n",
        "    sorted_dark.pop()\n",
        "worms_final.append(sorted_dark)\n",
        "\n",
        "if len(sorted_electric) > 3:\n",
        "  extra = len(sorted_electric) - 3\n",
        "  #for worm in sorted_electric:\n",
        "  for i in range(extra):\n",
        "    sorted_electric.pop()\n",
        "worms_final.append(sorted_electric)\n",
        "\n",
        "if len(sorted_colossal) > 3:\n",
        "  extra = len(sorted_colossal) - 3\n",
        "  #for worm in sorted_colossal: \n",
        "  for i in range(extra):\n",
        "    sorted_colossal.pop() \n",
        "worms_final.append(sorted_colossal)"
      ],
      "metadata": {
        "id": "cw0q6iOrZlsZ"
      },
      "execution_count": 17,
      "outputs": []
    },
    {
      "cell_type": "code",
      "source": [
        "for worms in worms_final:\n",
        "  for worm in worms:\n",
        "    #for value in worm.get('what_does_the_sandworm_say'):\n",
        "    for \"what_does_the_sandworm_say\" , value in worm.items():\n",
        "      print(value)\n",
        "\n",
        "\"\"\"\n",
        "for the_key, the_value in d.items():\n",
        "\n",
        "if len(value) > 5:\n",
        "  while len(value) > 5:\n",
        "    value.pop(-1)\n",
        "if len(value) < 5:\n",
        "  while len(value) < 5:\n",
        "    value.append('<SILENCE>')\n",
        "\"\"\""
      ],
      "metadata": {
        "id": "3n7XvCI4ZFF2"
      },
      "execution_count": null,
      "outputs": []
    },
    {
      "cell_type": "code",
      "source": [
        "for worms in worms_final:\n",
        "  roars = [worm[\"what_does_the_sandworm_say\"] for worms in worms]\n",
        "print(roars)"
      ],
      "metadata": {
        "id": "mqp5jMYVWudq"
      },
      "execution_count": null,
      "outputs": []
    },
    {
      "cell_type": "code",
      "source": [
        "wormium = []\n",
        "for worms in worms_final:\n",
        "  for worm in worms:\n",
        "    wormium.append(worm)\n",
        "\n",
        "for roar in wormium[\"what_does_the_sandworm_say\"]:\n",
        "  print(roar)\n",
        "      #roar_split = roar.split()\n",
        "    #worms_final.append(roar_split)\n",
        "    \n",
        "\"\"\"\n",
        "  if len(roar) > 5:\n",
        "    while len(roar) > 5:\n",
        "      roar.pop(-1)\n",
        "  if len(roar) < 5:\n",
        "    while len(roar) < 5:\n",
        "      roar.append('<SILENCE>')\n",
        "\"\"\"\n",
        "\"\"\"\n",
        "for roar in roars:\n",
        "  if len(roar) > 5:\n",
        "    while len(roar) >5:\n",
        "      roar.pop(-1)\n",
        "  if len(roar) < 5:\n",
        "    while len(roar) < 5:\n",
        "      roar.append('<SILENCE>')\n",
        "\"\"\""
      ],
      "metadata": {
        "id": "6ikzwIjTX783"
      },
      "execution_count": null,
      "outputs": []
    },
    {
      "cell_type": "code",
      "source": [
        "keys = ['sandworm_type', 'sandworm_age', 'what_does_the_sandworm_say', 'sandworm_name']\n",
        "\n",
        "with open(\"final_worms.csv\", \"w\") as f:\n",
        "  writer = csv.DictWriter(f, keys, delimiter=\",\")\n",
        "  writer.writeheader()\n",
        "  for item in worms_final:\n",
        "    writer.writerows(item)"
      ],
      "metadata": {
        "id": "V7fW5UUF1ta8"
      },
      "execution_count": 38,
      "outputs": []
    },
    {
      "cell_type": "code",
      "source": [
        "print(worms_final)"
      ],
      "metadata": {
        "colab": {
          "base_uri": "https://localhost:8080/"
        },
        "id": "jQcoQhKcbeBP",
        "outputId": "63ce4f27-293c-4990-9709-10d05899cd8b"
      },
      "execution_count": 88,
      "outputs": [
        {
          "output_type": "stream",
          "name": "stdout",
          "text": [
            "[[{'sandworm_type': 'ancient', 'sandworm_age': 557, 'what_does_the_sandworm_say': 'say kurr se nar ARR', 'sandworm_name': 'Mean'}, {'sandworm_type': 'ancient', 'sandworm_age': 90, 'what_does_the_sandworm_say': 'nar kurr hua MO! kurr', 'sandworm_name': 'Da Yu'}, {'sandworm_type': 'ancient', 'sandworm_age': 29, 'what_does_the_sandworm_say': 'hua ARR hart hua hua ARR!!! hua kurr kurr kurr MO! re', 'sandworm_name': 'Agreskoui'}], [{'sandworm_type': 'elder', 'sandworm_age': 68, 'what_does_the_sandworm_say': 'hart MO! ARR re hart', 'sandworm_name': 'Selket'}, {'sandworm_type': 'elder', 'sandworm_age': 64, 'what_does_the_sandworm_say': 'ARR MO! ARR', 'sandworm_name': 'Naiades'}, {'sandworm_type': 'elder', 'sandworm_age': 64, 'what_does_the_sandworm_say': 'kurr', 'sandworm_name': 'Corn-Maidens'}]]\n"
          ]
        }
      ]
    },
    {
      "cell_type": "code",
      "source": [
        "for worm in worms_final:\n",
        "  for key, val in worm.items():\n",
        "      if isinstance(val, list):\n",
        "          for dic in val:\n",
        "              if 'what_does_the_sandworm_say' in dic:\n",
        "                val_of_key = dic.get('what_does_the_sandworm_say')\n",
        "                break"
      ],
      "metadata": {
        "id": "AFz57Sd1KLMU"
      },
      "execution_count": null,
      "outputs": []
    },
    {
      "cell_type": "code",
      "source": [
        "keys = ['sandworm_type', 'sandworm_age', 'what_does_the_sandworm_say', 'sandworm_name']\n",
        "\n",
        "with open('csvoutput.tsv', 'w') as f:\n",
        "  writer = csv.DictWriter(f, keys, delimiter='\\t')\n",
        "  writer.writeheader()\n",
        "  writer.writerows(data)"
      ],
      "metadata": {
        "id": "WVVyT3pTZujt"
      },
      "execution_count": 47,
      "outputs": []
    }
  ]
}